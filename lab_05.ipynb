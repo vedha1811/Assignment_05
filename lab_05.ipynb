{
  "nbformat": 4,
  "nbformat_minor": 0,
  "metadata": {
    "colab": {
      "provenance": []
    },
    "kernelspec": {
      "name": "python3",
      "display_name": "Python 3"
    },
    "language_info": {
      "name": "python"
    }
  },
  "cells": [
    {
      "cell_type": "code",
      "execution_count": null,
      "metadata": {
        "colab": {
          "base_uri": "https://localhost:8080/",
          "height": 74
        },
        "id": "WosxZmcteWKU",
        "outputId": "22dc9001-17e1-4c18-b714-8b7beafb42df"
      },
      "outputs": [
        {
          "output_type": "display_data",
          "data": {
            "text/plain": [
              "<IPython.core.display.HTML object>"
            ],
            "text/html": [
              "\n",
              "     <input type=\"file\" id=\"files-4e8ec1e9-fbab-4e66-9637-14efbc4c0efe\" name=\"files[]\" multiple disabled\n",
              "        style=\"border:none\" />\n",
              "     <output id=\"result-4e8ec1e9-fbab-4e66-9637-14efbc4c0efe\">\n",
              "      Upload widget is only available when the cell has been executed in the\n",
              "      current browser session. Please rerun this cell to enable.\n",
              "      </output>\n",
              "      <script>// Copyright 2017 Google LLC\n",
              "//\n",
              "// Licensed under the Apache License, Version 2.0 (the \"License\");\n",
              "// you may not use this file except in compliance with the License.\n",
              "// You may obtain a copy of the License at\n",
              "//\n",
              "//      http://www.apache.org/licenses/LICENSE-2.0\n",
              "//\n",
              "// Unless required by applicable law or agreed to in writing, software\n",
              "// distributed under the License is distributed on an \"AS IS\" BASIS,\n",
              "// WITHOUT WARRANTIES OR CONDITIONS OF ANY KIND, either express or implied.\n",
              "// See the License for the specific language governing permissions and\n",
              "// limitations under the License.\n",
              "\n",
              "/**\n",
              " * @fileoverview Helpers for google.colab Python module.\n",
              " */\n",
              "(function(scope) {\n",
              "function span(text, styleAttributes = {}) {\n",
              "  const element = document.createElement('span');\n",
              "  element.textContent = text;\n",
              "  for (const key of Object.keys(styleAttributes)) {\n",
              "    element.style[key] = styleAttributes[key];\n",
              "  }\n",
              "  return element;\n",
              "}\n",
              "\n",
              "// Max number of bytes which will be uploaded at a time.\n",
              "const MAX_PAYLOAD_SIZE = 100 * 1024;\n",
              "\n",
              "function _uploadFiles(inputId, outputId) {\n",
              "  const steps = uploadFilesStep(inputId, outputId);\n",
              "  const outputElement = document.getElementById(outputId);\n",
              "  // Cache steps on the outputElement to make it available for the next call\n",
              "  // to uploadFilesContinue from Python.\n",
              "  outputElement.steps = steps;\n",
              "\n",
              "  return _uploadFilesContinue(outputId);\n",
              "}\n",
              "\n",
              "// This is roughly an async generator (not supported in the browser yet),\n",
              "// where there are multiple asynchronous steps and the Python side is going\n",
              "// to poll for completion of each step.\n",
              "// This uses a Promise to block the python side on completion of each step,\n",
              "// then passes the result of the previous step as the input to the next step.\n",
              "function _uploadFilesContinue(outputId) {\n",
              "  const outputElement = document.getElementById(outputId);\n",
              "  const steps = outputElement.steps;\n",
              "\n",
              "  const next = steps.next(outputElement.lastPromiseValue);\n",
              "  return Promise.resolve(next.value.promise).then((value) => {\n",
              "    // Cache the last promise value to make it available to the next\n",
              "    // step of the generator.\n",
              "    outputElement.lastPromiseValue = value;\n",
              "    return next.value.response;\n",
              "  });\n",
              "}\n",
              "\n",
              "/**\n",
              " * Generator function which is called between each async step of the upload\n",
              " * process.\n",
              " * @param {string} inputId Element ID of the input file picker element.\n",
              " * @param {string} outputId Element ID of the output display.\n",
              " * @return {!Iterable<!Object>} Iterable of next steps.\n",
              " */\n",
              "function* uploadFilesStep(inputId, outputId) {\n",
              "  const inputElement = document.getElementById(inputId);\n",
              "  inputElement.disabled = false;\n",
              "\n",
              "  const outputElement = document.getElementById(outputId);\n",
              "  outputElement.innerHTML = '';\n",
              "\n",
              "  const pickedPromise = new Promise((resolve) => {\n",
              "    inputElement.addEventListener('change', (e) => {\n",
              "      resolve(e.target.files);\n",
              "    });\n",
              "  });\n",
              "\n",
              "  const cancel = document.createElement('button');\n",
              "  inputElement.parentElement.appendChild(cancel);\n",
              "  cancel.textContent = 'Cancel upload';\n",
              "  const cancelPromise = new Promise((resolve) => {\n",
              "    cancel.onclick = () => {\n",
              "      resolve(null);\n",
              "    };\n",
              "  });\n",
              "\n",
              "  // Wait for the user to pick the files.\n",
              "  const files = yield {\n",
              "    promise: Promise.race([pickedPromise, cancelPromise]),\n",
              "    response: {\n",
              "      action: 'starting',\n",
              "    }\n",
              "  };\n",
              "\n",
              "  cancel.remove();\n",
              "\n",
              "  // Disable the input element since further picks are not allowed.\n",
              "  inputElement.disabled = true;\n",
              "\n",
              "  if (!files) {\n",
              "    return {\n",
              "      response: {\n",
              "        action: 'complete',\n",
              "      }\n",
              "    };\n",
              "  }\n",
              "\n",
              "  for (const file of files) {\n",
              "    const li = document.createElement('li');\n",
              "    li.append(span(file.name, {fontWeight: 'bold'}));\n",
              "    li.append(span(\n",
              "        `(${file.type || 'n/a'}) - ${file.size} bytes, ` +\n",
              "        `last modified: ${\n",
              "            file.lastModifiedDate ? file.lastModifiedDate.toLocaleDateString() :\n",
              "                                    'n/a'} - `));\n",
              "    const percent = span('0% done');\n",
              "    li.appendChild(percent);\n",
              "\n",
              "    outputElement.appendChild(li);\n",
              "\n",
              "    const fileDataPromise = new Promise((resolve) => {\n",
              "      const reader = new FileReader();\n",
              "      reader.onload = (e) => {\n",
              "        resolve(e.target.result);\n",
              "      };\n",
              "      reader.readAsArrayBuffer(file);\n",
              "    });\n",
              "    // Wait for the data to be ready.\n",
              "    let fileData = yield {\n",
              "      promise: fileDataPromise,\n",
              "      response: {\n",
              "        action: 'continue',\n",
              "      }\n",
              "    };\n",
              "\n",
              "    // Use a chunked sending to avoid message size limits. See b/62115660.\n",
              "    let position = 0;\n",
              "    do {\n",
              "      const length = Math.min(fileData.byteLength - position, MAX_PAYLOAD_SIZE);\n",
              "      const chunk = new Uint8Array(fileData, position, length);\n",
              "      position += length;\n",
              "\n",
              "      const base64 = btoa(String.fromCharCode.apply(null, chunk));\n",
              "      yield {\n",
              "        response: {\n",
              "          action: 'append',\n",
              "          file: file.name,\n",
              "          data: base64,\n",
              "        },\n",
              "      };\n",
              "\n",
              "      let percentDone = fileData.byteLength === 0 ?\n",
              "          100 :\n",
              "          Math.round((position / fileData.byteLength) * 100);\n",
              "      percent.textContent = `${percentDone}% done`;\n",
              "\n",
              "    } while (position < fileData.byteLength);\n",
              "  }\n",
              "\n",
              "  // All done.\n",
              "  yield {\n",
              "    response: {\n",
              "      action: 'complete',\n",
              "    }\n",
              "  };\n",
              "}\n",
              "\n",
              "scope.google = scope.google || {};\n",
              "scope.google.colab = scope.google.colab || {};\n",
              "scope.google.colab._files = {\n",
              "  _uploadFiles,\n",
              "  _uploadFilesContinue,\n",
              "};\n",
              "})(self);\n",
              "</script> "
            ]
          },
          "metadata": {}
        },
        {
          "output_type": "stream",
          "name": "stdout",
          "text": [
            "Saving data.csv to data.csv\n"
          ]
        }
      ],
      "source": [
        "from google.colab import files\n",
        "uploaded=files.upload()"
      ]
    },
    {
      "cell_type": "markdown",
      "source": [
        "A1. If your project deals with a regression problem, please use one attribute of your dataset\n",
        "(X_train) along with the target values (y_train) for training a linear regression model."
      ],
      "metadata": {
        "id": "tBanjNE_cnMK"
      }
    },
    {
      "cell_type": "code",
      "source": [
        "import pandas as pd\n",
        "from sklearn.model_selection import train_test_split\n",
        "from sklearn.linear_model import LinearRegression\n",
        "\n",
        "# Load dataset\n",
        "def load_dataset(path):\n",
        "    return pd.read_csv(path)\n",
        "\n",
        "def find_best_feature(df, target):\n",
        "    correlations = df.corr()[target].drop(target).abs()\n",
        "    return correlations.idxmax()\n",
        "\n",
        "# Prepare training and test data\n",
        "def prepare_data(df, feature, target, test_ratio=0.2, seed=42):\n",
        "    X = df[[feature]]\n",
        "    y = df[target]\n",
        "    return train_test_split(X, y, test_size=test_ratio, random_state=seed)\n",
        "\n",
        "# Train linear regression model\n",
        "def train_model(X_train, y_train):\n",
        "    model = LinearRegression()\n",
        "    model.fit(X_train, y_train)\n",
        "    return model, model.predict(X_train)\n",
        "\n",
        "# Execute workflow\n",
        "if __name__ == \"__main__\":\n",
        "    dataset_path = \"data.csv\"\n",
        "    data = load_dataset(dataset_path)\n",
        "\n",
        "    target = 'target'\n",
        "    feature = find_best_feature(data, target)  # Update with actual feature\n",
        "        # Update with actual target\n",
        "\n",
        "    X_train, X_test, y_train, y_test = prepare_data(data, feature, target)\n",
        "    model, predictions = train_model(X_train, y_train)\n",
        "\n",
        "    print(\"Sample predictions:\", predictions[:5])"
      ],
      "metadata": {
        "colab": {
          "base_uri": "https://localhost:8080/"
        },
        "id": "Lm3PcmSwe2kK",
        "outputId": "9a8c2679-178c-4b8b-e58c-6eac90cb62a2"
      },
      "execution_count": null,
      "outputs": [
        {
          "output_type": "stream",
          "name": "stdout",
          "text": [
            "Sample predictions: [0.22462825 0.77332714 0.22462825 0.77332714 0.22462825]\n"
          ]
        }
      ]
    },
    {
      "cell_type": "code",
      "source": [
        "import pandas as pd\n",
        "from sklearn.model_selection import train_test_split\n",
        "from sklearn.linear_model import LinearRegression\n",
        "\n",
        "# Load dataset\n",
        "def load_dataset(path):\n",
        "    return pd.read_csv(path)\n",
        "\n",
        "\n",
        "\n",
        "# Prepare training and test data\n",
        "def prepare_data(df, feature, target, test_ratio=0.2, seed=42):\n",
        "    X = df[[feature]]\n",
        "    y = df[target]\n",
        "    return train_test_split(X, y, test_size=test_ratio, random_state=seed)\n",
        "\n",
        "# Train linear regression model\n",
        "def train_model(X_train, y_train):\n",
        "    model = LinearRegression()\n",
        "    model.fit(X_train, y_train)\n",
        "    return model, model.predict(X_train)\n",
        "\n",
        "# Execute workflow\n",
        "if __name__ == \"__main__\":\n",
        "    dataset_path = \"data.csv\"\n",
        "    data = load_dataset(dataset_path)\n",
        "\n",
        "    target = 'target'\n",
        "    feature =  'thalach' # Update with actual feature\n",
        "        # Update with actual target\n",
        "\n",
        "    X_train, X_test, y_train, y_test = prepare_data(data, feature, target)\n",
        "    model, predictions = train_model(X_train, y_train)\n",
        "\n",
        "    print(\"Sample predictions:\", predictions[:5])"
      ],
      "metadata": {
        "colab": {
          "base_uri": "https://localhost:8080/"
        },
        "id": "uBxHUZT8i2gR",
        "outputId": "89c45eeb-bb17-44b3-cfe5-88546b43f461"
      },
      "execution_count": null,
      "outputs": [
        {
          "output_type": "stream",
          "name": "stdout",
          "text": [
            "Sample predictions: [0.34467174 0.53819374 0.24791074 0.33587529 0.37985756]\n"
          ]
        }
      ]
    },
    {
      "cell_type": "markdown",
      "source": [
        "A2. Calculate MSE, RMSE, MAPE and R2 scores for prediction made by the trained model in A1.\n",
        "Perform prediction on the test data and compare the metric values between train and test set."
      ],
      "metadata": {
        "id": "q2nERz2iesRT"
      }
    },
    {
      "cell_type": "code",
      "source": [
        "import pandas as pd\n",
        "from sklearn.model_selection import train_test_split\n",
        "from sklearn.linear_model import LinearRegression\n",
        "from sklearn.metrics import mean_squared_error, r2_score\n",
        "\n",
        "def load_data(file_path):\n",
        "    return pd.read_csv(file_path)\n",
        "\n",
        "# Find the feature most correlated with the target\n",
        "def select_best_feature(data, target_column):\n",
        "    correlations = data.corr()[target_column].drop(target_column).abs()\n",
        "    return correlations.idxmax()\n",
        "\n",
        "def split_data(data, feature_column, target_column, test_size=0.2, random_state=42):\n",
        "    X = data[[feature_column]]\n",
        "    y = data[target_column]\n",
        "    return train_test_split(X, y, test_size=test_size, random_state=random_state)\n",
        "\n",
        "def train_regression_model(X_train, y_train):\n",
        "    model = LinearRegression()\n",
        "    model.fit(X_train, y_train)\n",
        "    return model\n",
        "\n",
        "def compute_metrics(actual, predicted):\n",
        "    mse = mean_squared_error(actual, predicted)\n",
        "    rmse = mse ** 0.5\n",
        "    mape = (abs((actual - predicted) / actual)).mean() * 100\n",
        "    r2 = r2_score(actual, predicted)\n",
        "    return mse, rmse, mape, r2\n",
        "\n",
        "if __name__ == \"__main__\":\n",
        "\n",
        "    file_path = \"data.csv\"\n",
        "    dataset = load_data(file_path)\n",
        "\n",
        "    target = 'target'\n",
        "    best_feature = select_best_feature(dataset, target)\n",
        "\n",
        "    X_train, X_test, y_train, y_test = split_data(dataset, best_feature, target)\n",
        "\n",
        "    model = train_regression_model(X_train, y_train)\n",
        "\n",
        "    y_train_pred = model.predict(X_train)\n",
        "    y_test_pred = model.predict(X_test)\n",
        "\n",
        "    mse_train, rmse_train, mape_train, r2_train = compute_metrics(y_train, y_train_pred)\n",
        "    mse_test, rmse_test, mape_test, r2_test = compute_metrics(y_test, y_test_pred)\n",
        "\n",
        "    print(f\"Best Feature Selected: {best_feature}\")\n",
        "\n",
        "    print(\"\\nTraining Data Evaluation:\")\n",
        "    print(f\"  MSE: {mse_train:.4f}, RMSE: {rmse_train:.4f}, MAPE: {mape_train:.2f}%, R²: {r2_train:.4f}\")\n",
        "\n",
        "    print(\"\\nTest Data Evaluation:\")\n",
        "    print(f\"  MSE: {mse_test:.4f}, RMSE: {rmse_test:.4f}, MAPE: {mape_test:.2f}%, R²: {r2_test:.4f}\")\n"
      ],
      "metadata": {
        "colab": {
          "base_uri": "https://localhost:8080/"
        },
        "id": "Rqliaw-3d0UX",
        "outputId": "56efe1dd-2d4d-41ab-e913-72c38bb74ccc"
      },
      "execution_count": null,
      "outputs": [
        {
          "output_type": "stream",
          "name": "stdout",
          "text": [
            "Best Feature Selected: thal\n",
            "\n",
            "Training Data Evaluation:\n",
            "  MSE: 0.1788, RMSE: 0.4229, MAPE: inf, R²: 0.2797\n",
            "\n",
            "Test Data Evaluation:\n",
            "  MSE: 0.1802, RMSE: 0.4245, MAPE: inf%, R²: 0.2419\n"
          ]
        }
      ]
    },
    {
      "cell_type": "markdown",
      "source": [
        "A3. Repeat the exercises A1 and A2 with more than one attribute or all attributes."
      ],
      "metadata": {
        "id": "ON7OQBmpfW-4"
      }
    },
    {
      "cell_type": "code",
      "source": [
        "import pandas as pd\n",
        "from sklearn.model_selection import train_test_split\n",
        "from sklearn.linear_model import LinearRegression\n",
        "from sklearn.metrics import mean_squared_error, r2_score\n",
        "import numpy as np\n",
        "\n",
        "\n",
        "def load_data(file_path):\n",
        "    return pd.read_csv(file_path)\n",
        "\n",
        "\n",
        "def select_features(data, target_column):\n",
        "    return data.drop(columns=[target_column])\n",
        "\n",
        "\n",
        "def split_data(data, feature_columns, target_column, test_size=0.2, random_state=42):\n",
        "    X = data[feature_columns]\n",
        "    y = data[target_column]\n",
        "    return train_test_split(X, y, test_size=test_size, random_state=random_state)\n",
        "\n",
        "def train_regression_model(X_train, y_train):\n",
        "    model = LinearRegression()\n",
        "    model.fit(X_train, y_train)\n",
        "    return model\n",
        "\n",
        "def compute_metrics(actual, predicted):\n",
        "    mse = mean_squared_error(actual, predicted)\n",
        "    rmse = mse ** 0.5\n",
        "    r2 = r2_score(actual, predicted)\n",
        "\n",
        "    # Handle zero values in actual data for MAPE calculation\n",
        "    nonzero_actual = actual[actual != 0]\n",
        "    nonzero_predicted = predicted[actual != 0]\n",
        "\n",
        "    if len(nonzero_actual) > 0:\n",
        "        mape = (abs((nonzero_actual - nonzero_predicted) / nonzero_actual)).mean() * 100\n",
        "    else:\n",
        "        mape = np.nan  # Not computable if all values are zero\n",
        "\n",
        "    return mse, rmse, mape, r2\n",
        "\n",
        "if __name__ == \"__main__\":\n",
        "\n",
        "    file_path = \"data.csv\"\n",
        "    dataset = load_data(file_path)\n",
        "\n",
        "    target = 'target'\n",
        "    features = select_features(dataset, target)  # Select all features except target\n",
        "\n",
        "    X_train, X_test, y_train, y_test = split_data(dataset, features.columns, target)\n",
        "\n",
        "\n",
        "    model = train_regression_model(X_train, y_train)\n",
        "\n",
        "\n",
        "    y_train_pred = model.predict(X_train)\n",
        "    y_test_pred = model.predict(X_test)\n",
        "\n",
        "\n",
        "    mse_train, rmse_train, mape_train, r2_train = compute_metrics(y_train, y_train_pred)\n",
        "    mse_test, rmse_test, mape_test, r2_test = compute_metrics(y_test, y_test_pred)\n",
        "\n",
        "\n",
        "    print(f\"Using Features: {list(features.columns)}\")\n",
        "\n",
        "    print(\"\\nTraining Data Evaluation:\")\n",
        "    print(f\"  MSE: {mse_train:.4f}, RMSE: {rmse_train:.4f}, MAPE: {mape_train:.2f}%, R²: {r2_train:.4f}\")\n",
        "\n",
        "    print(\"\\nTest Data Evaluation:\")\n",
        "    print(f\"  MSE: {mse_test:.4f}, RMSE: {rmse_test:.4f}, MAPE: {mape_test:.2f}%, R²: {r2_test:.4f}\")\n"
      ],
      "metadata": {
        "colab": {
          "base_uri": "https://localhost:8080/"
        },
        "id": "gzwtiGU6ex_s",
        "outputId": "799ab334-43cf-4b7f-fc81-f288bb929b7d"
      },
      "execution_count": null,
      "outputs": [
        {
          "output_type": "stream",
          "name": "stdout",
          "text": [
            "Using Features: ['age', 'sex', 'cp', 'trestbps', 'chol', 'fbs', 'restecg', 'thalach', 'exang', 'oldpeak', 'slope', 'ca', 'thal']\n",
            "\n",
            "Training Data Evaluation:\n",
            "  MSE: 0.1161, RMSE: 0.3407, MAPE: 29.76%, R²: 0.5325\n",
            "\n",
            "Test Data Evaluation:\n",
            "  MSE: 0.1078, RMSE: 0.3284, MAPE: 37.34%, R²: 0.5463\n"
          ]
        }
      ]
    },
    {
      "cell_type": "markdown",
      "source": [
        "A4. Perform k-means clustering on your data. Please remove / ignore the target variable for\n",
        "performing clustering. S"
      ],
      "metadata": {
        "id": "TvYDxYiCBqx7"
      }
    },
    {
      "cell_type": "code",
      "source": [
        "import pandas as pd\n",
        "from sklearn.model_selection import train_test_split\n",
        "from sklearn.cluster import KMeans\n",
        "\n",
        "def load_dataset(filepath):\n",
        "    \"\"\" Reads data from a CSV file and returns a DataFrame. \"\"\"\n",
        "    return pd.read_csv(filepath)\n",
        "\n",
        "def preprocess_data(data, target_column, test_size=0.2, random_state=42):\n",
        "    \"\"\" Removes the target column and splits data into training and testing sets. \"\"\"\n",
        "    X = data.drop(columns=[target_column])  # Exclude target variable\n",
        "    X_train, X_test = train_test_split(X, test_size=test_size, random_state=random_state)\n",
        "    return X_train, X_test\n",
        "\n",
        "# Apply K-Means clustering\n",
        "def perform_kmeans(X_train, clusters=2, seed=0):\n",
        "    \"\"\" Performs K-Means clustering and returns cluster labels and centers. \"\"\"\n",
        "    kmeans = KMeans(n_clusters=clusters, random_state=seed, n_init=\"auto\")\n",
        "    kmeans.fit(X_train)\n",
        "    return kmeans.labels_, kmeans.cluster_centers_\n",
        "\n",
        "# Main workflow\n",
        "if __name__ == \"__main__\":\n",
        "    filepath = \"data.csv\"  # Update with actual file path\n",
        "    target_col = \"target\"  # Update with the correct target column\n",
        "\n",
        "    # Load and preprocess data\n",
        "    df = load_dataset(filepath)\n",
        "    X_train, X_test = preprocess_data(df, target_col)\n",
        "\n",
        "    # Execute clustering\n",
        "    labels, centers = perform_kmeans(X_train, clusters=2)\n",
        "\n",
        "    # Display results\n",
        "    print(\"First 10 Cluster Labels:\", labels[:10])\n",
        "    print(\"Cluster Centers:\\n\", centers)\n"
      ],
      "metadata": {
        "colab": {
          "base_uri": "https://localhost:8080/"
        },
        "id": "OX5LlrQ7gp1W",
        "outputId": "c195cda3-cd6e-434d-b96e-f22ba50e3ebc"
      },
      "execution_count": null,
      "outputs": [
        {
          "output_type": "stream",
          "name": "stdout",
          "text": [
            "First 10 Cluster Labels: [1 1 0 0 0 1 1 1 0 0]\n",
            "Cluster Centers:\n",
            " [[5.33405797e+01 7.60869565e-01 2.13768116e+00 1.29137681e+02\n",
            "  2.20688406e+02 1.37681159e-01 9.34782609e-01 1.51391304e+02\n",
            "  3.18840580e-01 1.09202899e+00 5.65217391e-01 5.86956522e-01\n",
            "  1.84057971e+00]\n",
            " [5.72820513e+01 5.89743590e-01 2.25641026e+00 1.36423077e+02\n",
            "  3.02282051e+02 1.28205128e-01 1.21794872e+00 1.44987179e+02\n",
            "  4.10256410e-01 1.10769231e+00 6.53846154e-01 8.58974359e-01\n",
            "  1.87179487e+00]]\n"
          ]
        }
      ]
    },
    {
      "cell_type": "markdown",
      "source": [
        "A5. For the clustering done in A4, calculate the: (i) Silhouette Score, (ii) CH Score and (iii) DB Index."
      ],
      "metadata": {
        "id": "LFnK3O6trrXo"
      }
    },
    {
      "cell_type": "code",
      "source": [
        "import pandas as pd\n",
        "from sklearn.model_selection import train_test_split\n",
        "from sklearn.cluster import KMeans\n",
        "from sklearn.metrics import silhouette_score, calinski_harabasz_score, davies_bouldin_score\n",
        "\n",
        "# Load dataset from CSV\n",
        "def read_data(file_path):\n",
        "    \"\"\"Loads data from a CSV file into a pandas DataFrame.\"\"\"\n",
        "    return pd.read_csv(file_path)\n",
        "\n",
        "# Prepare dataset for clustering\n",
        "def prepare_clustering_input(data, target_col, test_fraction=0.2, random_seed=42):\n",
        "    \"\"\"Removes the target column and splits the dataset into training and testing subsets.\"\"\"\n",
        "    features = data.drop(columns=[target_col])  # Drop target variable\n",
        "    return train_test_split(features, test_size=test_fraction, random_state=random_seed)\n",
        "\n",
        "# Apply K-Means algorithm\n",
        "def apply_kmeans(train_data, num_clusters=2, random_seed=42):\n",
        "    \"\"\"Trains a K-Means clustering model and returns the trained model.\"\"\"\n",
        "    model = KMeans(n_clusters=num_clusters, random_state=random_seed, n_init=\"auto\")\n",
        "    model.fit(train_data)\n",
        "    return model\n",
        "\n",
        "# Compute clustering quality metrics\n",
        "def compute_clustering_metrics(train_data, cluster_labels):\n",
        "    \"\"\"Calculates and returns Silhouette Score, CH Score, and DB Index.\"\"\"\n",
        "    sil_score = silhouette_score(train_data, cluster_labels)\n",
        "    ch_score = calinski_harabasz_score(train_data, cluster_labels)\n",
        "    db_index = davies_bouldin_score(train_data, cluster_labels)\n",
        "    return sil_score, ch_score, db_index\n",
        "\n",
        "# Main execution flow\n",
        "if __name__ == \"__main__\":\n",
        "    data_file = \"data.csv\"  # Update with actual file path\n",
        "    target_feature = \"target\"  # Update with the correct target column\n",
        "\n",
        "    # Load and process data\n",
        "    dataset = read_data(data_file)\n",
        "    X_train, X_test = prepare_clustering_input(dataset, target_feature)\n",
        "\n",
        "    # Perform clustering\n",
        "    kmeans_result = apply_kmeans(X_train, num_clusters=2)\n",
        "\n",
        "    # Evaluate clustering\n",
        "    sil_score, ch_score, db_index = compute_clustering_metrics(X_train, kmeans_result.labels_)\n",
        "\n",
        "    # Display results\n",
        "    print(f\"Silhouette Score: {sil_score:.4f}\")\n",
        "    print(f\"Calinski-Harabasz Score: {ch_score:.4f}\")\n",
        "    print(f\"Davies-Bouldin Index: {db_index:.4f}\")\n"
      ],
      "metadata": {
        "colab": {
          "base_uri": "https://localhost:8080/"
        },
        "id": "cWc1t6WNBvrv",
        "outputId": "bc1265ef-bfec-412d-bbb7-c510c957adfc"
      },
      "execution_count": 1,
      "outputs": [
        {
          "output_type": "stream",
          "name": "stdout",
          "text": [
            "Silhouette Score: 0.3928\n",
            "Calinski-Harabasz Score: 167.1950\n",
            "Davies-Bouldin Index: 0.9744\n"
          ]
        }
      ]
    },
    {
      "cell_type": "markdown",
      "source": [
        "A6. Perform k-means clustering for different values of k. Evaluate the above scores for each k value.\n",
        "Make a plot of the values against the k value to determine the optimal cluster count."
      ],
      "metadata": {
        "id": "BHi1soZvrmYZ"
      }
    },
    {
      "cell_type": "code",
      "source": [
        "import pandas as pd\n",
        "import numpy as np\n",
        "import matplotlib.pyplot as plt\n",
        "from sklearn.cluster import KMeans\n",
        "from sklearn.metrics import silhouette_score, calinski_harabasz_score, davies_bouldin_score\n",
        "from sklearn.model_selection import train_test_split\n",
        "from sklearn.preprocessing import StandardScaler\n",
        "\n",
        "# Load dataset\n",
        "def read_data(file_path):\n",
        "    \"\"\"Loads data from a CSV file into a pandas DataFrame.\"\"\"\n",
        "    return pd.read_csv(file_path)\n",
        "\n",
        "# Prepare dataset for clustering\n",
        "def prepare_clustering_input(data, target_col, test_fraction=0.2, random_seed=42):\n",
        "    \"\"\"Removes the target column, scales the data, and splits into training and testing subsets.\"\"\"\n",
        "    features = data.drop(columns=[target_col])  # Drop target variable\n",
        "    scaler = StandardScaler()\n",
        "    features_scaled = scaler.fit_transform(features)  # Standardizing features\n",
        "    return train_test_split(features_scaled, test_size=test_fraction, random_state=random_seed)\n",
        "\n",
        "# Apply K-Means for different values of k\n",
        "def evaluate_kmeans(X_train, k_values, random_seed=42):\n",
        "    \"\"\"Performs k-means clustering for different k values and computes evaluation metrics.\"\"\"\n",
        "    silhouette_scores = []\n",
        "    ch_scores = []\n",
        "    db_scores = []\n",
        "\n",
        "    for k in k_values:\n",
        "        kmeans = KMeans(n_clusters=k, random_state=random_seed, n_init=\"auto\")\n",
        "        kmeans.fit(X_train)\n",
        "        labels = kmeans.labels_\n",
        "\n",
        "        silhouette_scores.append(silhouette_score(X_train, labels))\n",
        "        ch_scores.append(calinski_harabasz_score(X_train, labels))\n",
        "        db_scores.append(davies_bouldin_score(X_train, labels))\n",
        "\n",
        "    return silhouette_scores, ch_scores, db_scores\n",
        "\n",
        "# Plot evaluation scores against k-values\n",
        "def plot_clustering_scores(k_values, silhouette_scores, ch_scores, db_scores):\n",
        "    \"\"\"Plots the clustering evaluation metrics against k-values to determine the optimal number of clusters.\"\"\"\n",
        "    plt.figure(figsize=(12, 5))\n",
        "\n",
        "    plt.subplot(1, 3, 1)\n",
        "    plt.plot(k_values, silhouette_scores, marker='o', linestyle='-', color='b')\n",
        "    plt.xlabel(\"Number of Clusters (k)\")\n",
        "    plt.ylabel(\"Silhouette Score\")\n",
        "    plt.title(\"Silhouette Score vs. k\")\n",
        "\n",
        "    plt.subplot(1, 3, 2)\n",
        "    plt.plot(k_values, ch_scores, marker='o', linestyle='-', color='g')\n",
        "    plt.xlabel(\"Number of Clusters (k)\")\n",
        "    plt.ylabel(\"Calinski-Harabasz Score\")\n",
        "    plt.title(\"CH Score vs. k\")\n",
        "\n",
        "    plt.subplot(1, 3, 3)\n",
        "    plt.plot(k_values, db_scores, marker='o', linestyle='-', color='r')\n",
        "    plt.xlabel(\"Number of Clusters (k)\")\n",
        "    plt.ylabel(\"Davies-Bouldin Index\")\n",
        "    plt.title(\"DB Index vs. k\")\n",
        "\n",
        "    plt.tight_layout()\n",
        "    plt.show()\n",
        "\n",
        "# Main execution\n",
        "if __name__ == \"__main__\":\n",
        "    data_file = \"data.csv\"  # Update with actual file path\n",
        "    target_feature = \"target\"  # Update with the correct target column\n",
        "\n",
        "    # Load and preprocess data\n",
        "    dataset = read_data(data_file)\n",
        "    X_train, X_test = prepare_clustering_input(dataset, target_feature)\n",
        "\n",
        "    # Define k-values range\n",
        "    k_values = range(2, 11)  # Testing k from 2 to 10\n",
        "\n",
        "    # Perform clustering and evaluate metrics\n",
        "    silhouette_scores, ch_scores, db_scores = evaluate_kmeans(X_train, k_values)\n",
        "\n",
        "    # Plot evaluation metrics\n",
        "    plot_clustering_scores(k_values, silhouette_scores, ch_scores, db_scores)\n",
        "\n",
        "    # Print best k based on silhouette score\n",
        "    best_k = k_values[np.argmax(silhouette_scores)]\n",
        "    print(f\"Optimal k based on highest Silhouette Score: {best_k}\")\n"
      ],
      "metadata": {
        "colab": {
          "base_uri": "https://localhost:8080/",
          "height": 453
        },
        "id": "iGZaokPEq7Hb",
        "outputId": "1644647c-7ed7-44e1-e9c6-522568832fa4"
      },
      "execution_count": 2,
      "outputs": [
        {
          "output_type": "display_data",
          "data": {
            "text/plain": [
              "<Figure size 1200x500 with 3 Axes>"
            ],
            "image/png": "[encoded data removed]"
          },
          "metadata": {}
        },
        {
          "output_type": "stream",
          "name": "stdout",
          "text": [
            "Optimal k based on highest Silhouette Score: 3\n"
          ]
        }
      ]
    },
    {
      "cell_type": "markdown",
      "source": [
        "A7. Using elbow plot, determine the optimal k value for k-means clustering. Use below code"
      ],
      "metadata": {
        "id": "fQbyJ0lBso5m"
      }
    },
    {
      "cell_type": "code",
      "source": [
        "import pandas as pd\n",
        "import numpy as np\n",
        "import matplotlib.pyplot as plt\n",
        "from sklearn.cluster import KMeans\n",
        "from sklearn.preprocessing import StandardScaler\n",
        "from sklearn.model_selection import train_test_split\n",
        "\n",
        "# Load dataset\n",
        "def read_data(file_path):\n",
        "    \"\"\"Loads data from a CSV file into a pandas DataFrame.\"\"\"\n",
        "    return pd.read_csv(file_path)\n",
        "\n",
        "# Prepare dataset for clustering\n",
        "def prepare_clustering_input(data, target_col, test_fraction=0.2, random_seed=42):\n",
        "    \"\"\"Removes the target column, scales the data, and splits into training and testing subsets.\"\"\"\n",
        "    features = data.drop(columns=[target_col])  # Drop target variable\n",
        "    scaler = StandardScaler()\n",
        "    features_scaled = scaler.fit_transform(features)  # Standardizing features\n",
        "    return train_test_split(features_scaled, test_size=test_fraction, random_state=random_seed)\n",
        "\n",
        "# Compute distortions for different k values\n",
        "def compute_elbow_method(X_train, k_range):\n",
        "    \"\"\"Calculates distortions (inertia) for different k values in k-means clustering.\"\"\"\n",
        "    distortions = []\n",
        "    for k in k_range:\n",
        "        kmeans = KMeans(n_clusters=k, random_state=42, n_init=\"auto\")\n",
        "        kmeans.fit(X_train)\n",
        "        distortions.append(kmeans.inertia_)  # Inertia = sum of squared distances to closest centroid\n",
        "    return distortions\n",
        "\n",
        "# Plot the elbow curve\n",
        "def plot_elbow_curve(k_values, distortions):\n",
        "    \"\"\"Plots the elbow method to determine the optimal k value.\"\"\"\n",
        "    plt.figure(figsize=(8, 5))\n",
        "    plt.plot(k_values, distortions, marker='o', linestyle='-', color='b')\n",
        "    plt.xlabel(\"Number of Clusters (k)\")\n",
        "    plt.ylabel(\"Inertia (Distortion)\")\n",
        "    plt.title(\"Elbow Method for Optimal k\")\n",
        "    plt.xticks(k_values)\n",
        "    plt.grid(alpha=0.6, linestyle=\"--\")\n",
        "    plt.show()\n",
        "\n",
        "# Main execution\n",
        "if __name__ == \"__main__\":\n",
        "    data_file = \"data.csv\"  # Update with actual file path\n",
        "    target_feature = \"target\"  # Update with the correct target column\n",
        "\n",
        "    # Load and preprocess data\n",
        "    dataset = read_data(data_file)\n",
        "    X_train, X_test = prepare_clustering_input(dataset, target_feature)\n",
        "\n",
        "    # Define k-values range for elbow method\n",
        "    k_values = range(2, 20)\n",
        "\n",
        "    # Compute distortions\n",
        "    distortions = compute_elbow_method(X_train, k_values)\n",
        "\n",
        "    # Plot elbow curve\n",
        "    plot_elbow_curve(k_values, distortions)\n"
      ],
      "metadata": {
        "colab": {
          "base_uri": "https://localhost:8080/",
          "height": 487
        },
        "id": "8ezUcbyzrk3h",
        "outputId": "7d03e56d-6583-41fb-8411-b9f5885b9a5a"
      },
      "execution_count": 3,
      "outputs": [
        {
          "output_type": "display_data",
          "data": {
            "text/plain": [
              "<Figure size 800x500 with 1 Axes>"
            ],
            "image/png": "[encoded data removed]"
          },
          "metadata": {}
        }
      ]
    }
  ]
}